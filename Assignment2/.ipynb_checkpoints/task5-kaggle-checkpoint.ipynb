{
 "cells": [
  {
   "cell_type": "markdown",
   "metadata": {},
   "source": [
    "# ECBM E4040 - Assignment 2- Task 5: Kaggle Open-ended Competition\n",
    "\n",
    "Kaggle is a platform for predictive modelling and analytics competitions in which companies and researchers post data and statisticians and data miners compete to produce the best models for predicting and describing the data.\n",
    "\n",
    "If you don't have a Kaggle account, feel free to join at [www.kaggle.com](https://www.kaggle.com). To let the TAs do the grading more conveniently, please use Lionmail to join Kaggle and use UNI as your username.\n",
    "\n",
    "Visit the website for this competition to join: \n",
    "https://www.kaggle.com/t/80bbe298c9cb40fb9388637d8cbcdcd4\n",
    "\n",
    "Details about this in-class competition is shown on the website above. Please read carefully.\n",
    "\n",
    "<span style=\"color:red\">__TODO__:</span>\n",
    "1. Train a custom model for the bottle dataset classification problem. You are free to use any methods taught in the class or found by yourself on the Internet (ALWAYS provide reference to the source). General training methods include:\n",
    "    * Dropout\n",
    "    * Batch normalization\n",
    "    * Early stopping\n",
    "    * l1-norm & l2-norm penalization\n",
    "2. You'll be given the test set to generate your predictions (70% public + 30% private, but you don't know which ones are public/private). Achieve 70% accuracy on the public test set. The accuracy will be shown on the public leaderboard once you submit your prediction .csv file. \n",
    "3. (A) Report your results on the Kaggle, for comparison with other students' optimization results (you should do this several times). (C) Save your best model, using BitBucket, at the same time when you (B) submit the homework files into Courseworks. See instructions below. \n",
    "\n",
    "__Hint__: You can start from what you implemented in task 4. Another classic classification model named 'VGG16' can also be easily implemented."
   ]
  },
  {
   "cell_type": "markdown",
   "metadata": {},
   "source": [
    "## HW Submission Details:\n",
    "There are three components to reporting the results of this task: \n",
    "\n",
    "**(A) Submission (possibly several submissions) of the .csv prediction file throught the Kaggle platform;**. You should start doing this VERY early, so that students can compare their work as they are making progress with model optimization.\n",
    "\n",
    "**(B) Editing and submitting the content of this Jupyter notebook, through Courseworks; **\n",
    "(i) The code for your CNN model and for the training function. The code should be stored in __./ecbm4040/neuralnets/kaggle.py__;\n",
    "(ii) Print out your training process and accuracy __within this notebook__;\n",
    "\n",
    "**(C) Submitting your best CNN model through instructor-owned private BitBucket repo.**\n",
    "\n",
    "**Description of (C):** \n",
    "For this task, you will be utilizing bitbucket to save your model for submission. Bitbucket provides Git code managment. For those who are not familiar with git operations, please check [Learn Git with Bitbucket Cloud](https://www.atlassian.com/git/tutorials/learn-git-with-bitbucket-cloud) as reference.\n",
    "**TAs will create a private Bitbucket repository for each student, with the write access. This repo will be owned by the instructors. Make sure to properly submit your model to that exact repository (submissions to your own private repository will not count)** Students need to populate the following file to provide instructors with bitbucket account information: https://docs.google.com/spreadsheets/d/13Ot_9gr4DIx11ugEQ2EOC6y6gn3PtmxCQbvXU9p6NrE/edit#gid=0.\n",
    "\n",
    "<span style=\"color:red\">__Submission content:__ :</span>\n",
    "(i) Upload your best model with all the data output (for example, __MODEL.data-00000-of-00001, MODEL.meta, MODEL.index__) into the  BitBucket. Store your model in the folder named \"__KaggleModel__\" within the BitBucket repository. \n",
    "Remember to delete any intermediate results, **we only want your best model. Do not upload any data files**. The instructors will rerun the uploaded best model and verify against the score which you reported on the Kaggle.\n",
    "\n"
   ]
  },
  {
   "cell_type": "markdown",
   "metadata": {},
   "source": [
    "## Train your model here"
   ]
  },
  {
   "cell_type": "code",
   "execution_count": 1,
   "metadata": {},
   "outputs": [],
   "source": [
    "%matplotlib inline\n",
    "%load_ext autoreload\n",
    "%autoreload 2\n",
    "%load_ext memory_profiler\n",
    "\n",
    "# Import modules\n",
    "from __future__ import print_function\n",
    "import numpy as np\n",
    "from PIL import Image\n",
    "import glob\n",
    "import matplotlib.pyplot as plt\n",
    "import tensorflow as tf"
   ]
  },
  {
   "cell_type": "code",
   "execution_count": 2,
   "metadata": {},
   "outputs": [
    {
     "name": "stdout",
     "output_type": "stream",
     "text": [
      "1\n",
      "2\n",
      "3\n",
      "4\n",
      "5\n",
      "6\n"
     ]
    }
   ],
   "source": [
    "X_test = np.empty((3500,16384,3))\n",
    "for i,filename in enumerate(glob.glob('data/all/test_128/*.png')):\n",
    "    im=Image.open(filename)\n",
    "    X_test[i,...] = im.getdata()\n",
    "    im.close()\n",
    "    \n",
    "print(1)\n",
    "    \n",
    "X_train = np.empty((15000,16384,3))\n",
    "y_train = np.empty(15000)\n",
    "for i,filename in enumerate(glob.glob('data/all/train_128/0/*.png')):\n",
    "    im=Image.open(filename)\n",
    "    X_train[i,...] = im.getdata()\n",
    "    y_train[i] = 0\n",
    "    im.close()\n",
    "    \n",
    "print(2)\n",
    "\n",
    "for i,filename in enumerate(glob.glob('data/all/train_128/1/*.png')):\n",
    "    im=Image.open(filename)\n",
    "    X_train[3000+i,...] = im.getdata()\n",
    "    y_train[3000+i] = 1\n",
    "    im.close()\n",
    "    \n",
    "print(3)\n",
    "\n",
    "for i,filename in enumerate(glob.glob('data/all/train_128/2/*.png')):\n",
    "    im=Image.open(filename)\n",
    "    X_train[6000+i,...] = im.getdata()\n",
    "    y_train[6000+i] = 2\n",
    "    im.close()\n",
    "    \n",
    "print(4)\n",
    "\n",
    "for i,filename in enumerate(glob.glob('data/all/train_128/3/*.png')):\n",
    "    im=Image.open(filename)\n",
    "    X_train[9000+i,...] = im.getdata()\n",
    "    y_train[9000+i] = 3\n",
    "    im.close()\n",
    "    \n",
    "print(5)\n",
    "\n",
    "for i,filename in enumerate(glob.glob('data/all/train_128/4/*.png')):\n",
    "    im=Image.open(filename)\n",
    "    X_train[12000+i,...] = im.getdata()\n",
    "    y_train[12000+i] = 4\n",
    "    im.close()\n",
    "    \n",
    "print(6)\n",
    "    \n",
    "X_train = X_train.reshape(-1,3,128,128).transpose(0,2,3,1) / 255\n",
    "X_test = X_test.reshape(-1,3,128,128).transpose(0,2,3,1) / 255\n",
    "\n",
    "num_train = 15000-1000\n",
    "num_val = 1000\n",
    "\n",
    "s = np.arange(X_train.shape[0])\n",
    "shuff = np.random.shuffle(s)\n",
    "X_train = X_train[s]\n",
    "y_train = y_train[s]\n",
    "\n",
    "X_val = X_train[num_train:]\n",
    "X_val = X_val[:500]\n",
    "y_val = y_train[num_train:]\n",
    "y_val = y_val[:500]\n",
    "X_train = X_train[:num_train]\n",
    "y_train = y_train[:num_train]"
   ]
  },
  {
   "cell_type": "code",
   "execution_count": null,
   "metadata": {
    "scrolled": true
   },
   "outputs": [
    {
     "name": "stdout",
     "output_type": "stream",
     "text": [
      "Building my LeNet. Parameters: \n",
      "conv_featmap=[100, 100]\n",
      "fc_units=[400, 100]\n",
      "conv_kernel_size=[3, 5]\n",
      "pooling_size=[2, 2]\n",
      "l2_norm=0.01\n",
      "seed=235\n",
      "learning_rate=0.01\n",
      "WARNING:tensorflow:From /home/ecbm4040/Assignment2/ecbm4040/neuralnets/kaggle.py:217: softmax_cross_entropy_with_logits (from tensorflow.python.ops.nn_ops) is deprecated and will be removed in a future version.\n",
      "Instructions for updating:\n",
      "\n",
      "Future major versions of TensorFlow will allow gradients to flow\n",
      "into the labels input on backprop by default.\n",
      "\n",
      "See @{tf.nn.softmax_cross_entropy_with_logits_v2}.\n",
      "\n",
      "number of batches for training: 287\n",
      "epoch 1 \n",
      "Best validation accuracy! iteration:100 accuracy: 45.4%\n",
      "epoch 2 \n",
      "Best validation accuracy! iteration:300 accuracy: 46.6%\n",
      "Best validation accuracy! iteration:400 accuracy: 48.0%\n",
      "Best validation accuracy! iteration:500 accuracy: 48.6%\n",
      "epoch 3 \n",
      "Best validation accuracy! iteration:600 accuracy: 58.0%\n",
      "Best validation accuracy! iteration:700 accuracy: 60.0%\n",
      "epoch 4 \n",
      "epoch 5 \n",
      "Best validation accuracy! iteration:1200 accuracy: 60.6%\n",
      "Best validation accuracy! iteration:1300 accuracy: 61.8%\n",
      "epoch 6 \n",
      "epoch 7 \n",
      "Best validation accuracy! iteration:1900 accuracy: 62.6%\n",
      "epoch 8 \n",
      "Best validation accuracy! iteration:2200 accuracy: 65.4%\n",
      "epoch 9 \n"
     ]
    }
   ],
   "source": [
    "from ecbm4040.neuralnets.kaggle import my_training_kaggle\n",
    "tf.reset_default_graph()\n",
    "predicted = my_training_kaggle(X_train, y_train, X_val, y_val, X_test,\n",
    "         conv_featmap=[100,100],\n",
    "         fc_units=[400,100],\n",
    "         conv_kernel_size=[3,5],\n",
    "         pooling_size=[2,2],\n",
    "         l2_norm=0.01,\n",
    "         seed=235,\n",
    "         learning_rate=1e-2,\n",
    "         epoch=20,\n",
    "         batch_size=200,\n",
    "         verbose=False,\n",
    "         pre_trained_model=None)"
   ]
  },
  {
   "cell_type": "markdown",
   "metadata": {},
   "source": [
    "## Save your best model"
   ]
  },
  {
   "cell_type": "code",
   "execution_count": null,
   "metadata": {},
   "outputs": [],
   "source": [
    "# YOUR CODE HERE\n",
    "# Saved in model as lenet_kaggle\n"
   ]
  },
  {
   "cell_type": "markdown",
   "metadata": {},
   "source": [
    "## Generate .csv file for Kaggle"
   ]
  },
  {
   "cell_type": "code",
   "execution_count": null,
   "metadata": {},
   "outputs": [],
   "source": [
    "# The following code snippet can be used to generate your prediction .csv file.\n",
    "\n",
    "import csv\n",
    "with open('predicted.csv','w') as csvfile:\n",
    "    fieldnames = ['Id','label']\n",
    "    writer = csv.DictWriter(csvfile, fieldnames=fieldnames)\n",
    "    writer.writeheader()    \n",
    "    for index,l in enumerate(predicted):\n",
    "        filename = str(index)+'.png'\n",
    "        label = str(l)\n",
    "        writer.writerow({'Id': filename, 'label': label})"
   ]
  }
 ],
 "metadata": {
  "kernelspec": {
   "display_name": "Python 3",
   "language": "python",
   "name": "python3"
  },
  "language_info": {
   "codemirror_mode": {
    "name": "ipython",
    "version": 3
   },
   "file_extension": ".py",
   "mimetype": "text/x-python",
   "name": "python",
   "nbconvert_exporter": "python",
   "pygments_lexer": "ipython3",
   "version": "3.6.5"
  }
 },
 "nbformat": 4,
 "nbformat_minor": 2
}
